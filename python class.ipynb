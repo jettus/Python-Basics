{
 "cells": [
  {
   "cell_type": "code",
   "execution_count": 1,
   "metadata": {},
   "outputs": [],
   "source": [
    "class student() : #empty class \n",
    "    pass \n"
   ]
  },
  {
   "cell_type": "code",
   "execution_count": 4,
   "metadata": {},
   "outputs": [
    {
     "name": "stdout",
     "output_type": "stream",
     "text": [
      "before\n",
      "inside\n",
      "Rohit\n",
      "after\n"
     ]
    }
   ],
   "source": [
    "class student():  #class is used for template creation\n",
    "      def __init__(self) :\n",
    "        print(\"inside\")\n",
    "        self.name = \"Rohit\"\n",
    "        self.age = 30\n",
    "        self.coure = \"python\"\n",
    "print(\"before\")\n",
    "obj =student()\n",
    "print(obj.name)\n",
    "print(\"after\")"
   ]
  },
  {
   "cell_type": "code",
   "execution_count": 8,
   "metadata": {},
   "outputs": [
    {
     "name": "stdout",
     "output_type": "stream",
     "text": [
      "rohit\n",
      "jettus\n"
     ]
    }
   ],
   "source": [
    "class student():\n",
    "      def __init__(self,name,age,course) :     \n",
    "        self.name = name\n",
    "        self.age = age \n",
    "        self.coure = course\n",
    "obj =student(\"rohit\",30,\"python\")\n",
    "obj1 = student(\"jettus\",25,\"Data Science\")\n",
    "print(obj.name)\n",
    "print(obj1.name)"
   ]
  },
  {
   "cell_type": "code",
   "execution_count": 28,
   "metadata": {},
   "outputs": [
    {
     "name": "stdout",
     "output_type": "stream",
     "text": [
      "rohit\n",
      "30\n",
      "python\n",
      "2\n",
      "2\n",
      "2\n",
      "jettus\n",
      "20\n",
      "DS\n",
      "3\n",
      "5\n"
     ]
    }
   ],
   "source": [
    "class student():\n",
    "    stdcount=0\n",
    "    def __init__(self,name,age,course,rollno) :     \n",
    "        self.name = name\n",
    "        self.age = age \n",
    "        self.course = course\n",
    "        self.rollno = rollno\n",
    "        student.stdcount += rollno\n",
    "    def printInfo(self) :\n",
    "        print(self.name)\n",
    "        print(self.age)\n",
    "        print(self.course)\n",
    "        print(self.rollno)\n",
    "        print(student.stdcount)\n",
    "obj =student(\"rohit\",30,\"python\",2)\n",
    "obj.printInfo()\n",
    "print(student.stdcount)\n",
    "obj1 = student(\"jettus\",20,\"DS\",3)\n",
    "obj1.printInfo()"
   ]
  },
  {
   "cell_type": "code",
   "execution_count": 30,
   "metadata": {},
   "outputs": [
    {
     "ename": "NameError",
     "evalue": "name 'classMethod' is not defined",
     "output_type": "error",
     "traceback": [
      "\u001b[1;31m---------------------------------------------------------------------------\u001b[0m",
      "\u001b[1;31mNameError\u001b[0m                                 Traceback (most recent call last)",
      "\u001b[1;32m<ipython-input-30-1b005120ed77>\u001b[0m in \u001b[0;36m<module>\u001b[1;34m\u001b[0m\n\u001b[1;32m----> 1\u001b[1;33m \u001b[1;32mclass\u001b[0m \u001b[0mstudent\u001b[0m\u001b[1;33m(\u001b[0m\u001b[1;33m)\u001b[0m\u001b[1;33m:\u001b[0m\u001b[1;33m\u001b[0m\u001b[1;33m\u001b[0m\u001b[0m\n\u001b[0m\u001b[0;32m      2\u001b[0m     \u001b[0mstdcount\u001b[0m\u001b[1;33m=\u001b[0m\u001b[1;36m0\u001b[0m\u001b[1;33m\u001b[0m\u001b[1;33m\u001b[0m\u001b[0m\n\u001b[0;32m      3\u001b[0m     \u001b[1;32mdef\u001b[0m \u001b[0m__init__\u001b[0m\u001b[1;33m(\u001b[0m\u001b[0mself\u001b[0m\u001b[1;33m,\u001b[0m\u001b[0mname\u001b[0m\u001b[1;33m,\u001b[0m\u001b[0mage\u001b[0m\u001b[1;33m,\u001b[0m\u001b[0mcourse\u001b[0m\u001b[1;33m,\u001b[0m\u001b[0mrollno\u001b[0m\u001b[1;33m)\u001b[0m \u001b[1;33m:\u001b[0m\u001b[1;33m\u001b[0m\u001b[1;33m\u001b[0m\u001b[0m\n\u001b[0;32m      4\u001b[0m         \u001b[0mself\u001b[0m\u001b[1;33m.\u001b[0m\u001b[0mname\u001b[0m \u001b[1;33m=\u001b[0m \u001b[0mname\u001b[0m\u001b[1;33m\u001b[0m\u001b[1;33m\u001b[0m\u001b[0m\n\u001b[0;32m      5\u001b[0m         \u001b[0mself\u001b[0m\u001b[1;33m.\u001b[0m\u001b[0mage\u001b[0m \u001b[1;33m=\u001b[0m \u001b[0mage\u001b[0m\u001b[1;33m\u001b[0m\u001b[1;33m\u001b[0m\u001b[0m\n",
      "\u001b[1;32m<ipython-input-30-1b005120ed77>\u001b[0m in \u001b[0;36mstudent\u001b[1;34m()\u001b[0m\n\u001b[0;32m     14\u001b[0m         \u001b[0mprint\u001b[0m\u001b[1;33m(\u001b[0m\u001b[0mself\u001b[0m\u001b[1;33m.\u001b[0m\u001b[0mrollno\u001b[0m\u001b[1;33m)\u001b[0m\u001b[1;33m\u001b[0m\u001b[1;33m\u001b[0m\u001b[0m\n\u001b[0;32m     15\u001b[0m         \u001b[0mprint\u001b[0m\u001b[1;33m(\u001b[0m\u001b[0mstudent\u001b[0m\u001b[1;33m.\u001b[0m\u001b[0mstdcount\u001b[0m\u001b[1;33m)\u001b[0m\u001b[1;33m\u001b[0m\u001b[1;33m\u001b[0m\u001b[0m\n\u001b[1;32m---> 16\u001b[1;33m     \u001b[1;33m@\u001b[0m\u001b[0mclassMethod\u001b[0m  \u001b[1;31m#it is gonna inject cls in it , it is called decorator\u001b[0m\u001b[1;33m\u001b[0m\u001b[1;33m\u001b[0m\u001b[0m\n\u001b[0m\u001b[0;32m     17\u001b[0m     \u001b[1;32mdef\u001b[0m \u001b[0mdisprice\u001b[0m\u001b[1;33m(\u001b[0m\u001b[0mcls\u001b[0m\u001b[1;33m,\u001b[0m\u001b[0mper\u001b[0m\u001b[1;33m)\u001b[0m \u001b[1;33m:\u001b[0m\u001b[1;33m\u001b[0m\u001b[1;33m\u001b[0m\u001b[0m\n\u001b[0;32m     18\u001b[0m         \u001b[0mprice\u001b[0m \u001b[1;33m=\u001b[0m\u001b[1;33m(\u001b[0m\u001b[0mdis\u001b[0m\u001b[1;33m.\u001b[0m\u001b[0mfee\u001b[0m\u001b[1;33m*\u001b[0m\u001b[0mper\u001b[0m\u001b[1;33m)\u001b[0m\u001b[1;33m/\u001b[0m\u001b[1;36m100\u001b[0m\u001b[1;33m\u001b[0m\u001b[1;33m\u001b[0m\u001b[0m\n",
      "\u001b[1;31mNameError\u001b[0m: name 'classMethod' is not defined"
     ]
    }
   ],
   "source": [
    "class student():\n",
    "    stdcount=0\n",
    "    def __init__(self,name,age,course,rollno) :     \n",
    "        self.name = name\n",
    "        self.age = age \n",
    "        self.course = course\n",
    "        self.rollno = rollno\n",
    "        fee=1800\n",
    "        student.stdcount += rollno\n",
    "    def printInfo(self) :\n",
    "        print(self.name)\n",
    "        print(self.age)\n",
    "        print(self.course)\n",
    "        print(self.rollno)\n",
    "        print(student.stdcount)\n",
    "    @classMethod  #it is gonna inject cls in it , it is called decorator \n",
    "    def disprice(cls,per) : \n",
    "        price =(dis.fee*per)/100\n",
    "        cls.fee =cls.fee-price \n",
    "        \n",
    "obj =student(\"rohit\",30,\"python\",2)\n",
    "obj.printInfo()\n",
    "print(student.stdcount)\n",
    "obj1 = student(\"jettus\",20,\"DS\",3)\n",
    "obj1.printInfo() \n",
    "student.disprice(10)\n",
    "print(student.fee)"
   ]
  },
  {
   "cell_type": "code",
   "execution_count": 41,
   "metadata": {},
   "outputs": [
    {
     "name": "stdout",
     "output_type": "stream",
     "text": [
      "rohit\n",
      "30\n",
      "python\n",
      "2\n",
      "2\n",
      "2\n",
      "jettus\n",
      "20\n",
      "DS\n",
      "3\n",
      "5\n",
      "this is static method\n"
     ]
    }
   ],
   "source": [
    "class student():\n",
    "    stdcount=0\n",
    "    fee=1800\n",
    "    def __init__(self,name,age,course,rollno) :     \n",
    "        self.name = name\n",
    "        self.age = age \n",
    "        self.course = course\n",
    "        self.rollno = rollno\n",
    "        fee=1800\n",
    "        student.stdcount += rollno\n",
    "    def printInfo(self) :\n",
    "        print(self.name)\n",
    "        print(self.age)\n",
    "        print(self.course)\n",
    "        print(self.rollno)\n",
    "        print(student.stdcount)\n",
    "    @classmethod  #it is gonna inject cls in it , it is called decorator \n",
    "    def disprice(cls,per) : \n",
    "        price =(cls.fee*per)/100\n",
    "        cls.fee =cls.fee-price \n",
    "    @staticmethod\n",
    "    def fun() :\n",
    "        print(\"this is static method\")\n",
    "obj =student(\"rohit\",30,\"python\",2)\n",
    "obj.printInfo()\n",
    "print(student.stdcount)\n",
    "obj1 = student(\"jettus\",20,\"DS\",3)\n",
    "obj1.printInfo() \n",
    "student.disprice(10)\n",
    "student.fun()"
   ]
  },
  {
   "cell_type": "code",
   "execution_count": 49,
   "metadata": {},
   "outputs": [
    {
     "name": "stdout",
     "output_type": "stream",
     "text": [
      "petrolium\n"
     ]
    }
   ],
   "source": [
    "#pinheritence \n",
    "class father() :\n",
    "      car = \"maserati\"\n",
    "      bankbalance  = \"100 trillion\"\n",
    "      name = \"jcksvjfd\"\n",
    "      \n",
    "      def business(self) : \n",
    "          print(\"petrolium\")\n",
    "class son(father) :\n",
    "      pass\n",
    "obj = son()\n",
    "obj.business()\n"
   ]
  },
  {
   "cell_type": "code",
   "execution_count": 48,
   "metadata": {},
   "outputs": [],
   "source": [
    "#multiple inheritance in python is possible \n"
   ]
  },
  {
   "cell_type": "code",
   "execution_count": 50,
   "metadata": {},
   "outputs": [],
   "source": [
    "#ploymorphism \n",
    "#one metod different output"
   ]
  },
  {
   "cell_type": "code",
   "execution_count": 63,
   "metadata": {},
   "outputs": [
    {
     "name": "stdout",
     "output_type": "stream",
     "text": [
      "petrolium\n",
      "keerthy\n",
      "preethy\n"
     ]
    }
   ],
   "source": [
    "#polymorphism \n",
    "#method overiding\n",
    "class father() :\n",
    "      car = \"maserati\"\n",
    "      bankbalance  = \"100 trillion\"\n",
    "      name = \"jcksvjfd\"\n",
    "      \n",
    "      def business(self) : \n",
    "          print(\"petrolium\")\n",
    "      def to_marry(self) :\n",
    "           print(\"preethy\")\n",
    "        \n",
    "class son(father) :\n",
    "      def to_marry(self)  :\n",
    "          print(\"keerthy\")   \n",
    "obj = son()\n",
    "obj.business()\n",
    "obj.to_marry()\n",
    "obj1=father()\n",
    "obj1.to_marry()"
   ]
  },
  {
   "cell_type": "markdown",
   "metadata": {},
   "source": [
    "class father():\n",
    "      --car = \"BMW\"\n",
    "      --bankbalance = \"4 million\"\n",
    "      --house =  \" vhjfdhdkb \"\n",
    "      def __business(self) : \n",
    "          print(\"petrolium\")\n",
    "        \n",
    "class son(father) :\n",
    "      def to_marry(self)  :\n",
    "          print(\"keerthy\") \n",
    "obj = son()\n",
    "print(obj.car)"
   ]
  },
  {
   "cell_type": "code",
   "execution_count": 87,
   "metadata": {},
   "outputs": [
    {
     "name": "stdout",
     "output_type": "stream",
     "text": [
      "maserati\n",
      "maserati\n"
     ]
    }
   ],
   "source": [
    "#data encapjsulation -making data not accessible outside the the class\n",
    "class father() :\n",
    "      __car = \"maserati\"\n",
    "      __bankbalance  = \"100 trillion\"\n",
    "      __name = \"jcksvjfd\"\n",
    "    \n",
    "      \n",
    "      def business(self) : \n",
    "            print(\"petrolium\")\n",
    "      def to_marry(self) :\n",
    "             print(father.__car)\n",
    "        \n",
    "class son(father) :\n",
    "      def to_marry(self)  :\n",
    "          print(\"keerthy\")   \n",
    "obj1 = father()\n",
    "obj1.to_marry()\n",
    "print(son._father__car) "
   ]
  },
  {
   "cell_type": "code",
   "execution_count": null,
   "metadata": {},
   "outputs": [],
   "source": []
  }
 ],
 "metadata": {
  "kernelspec": {
   "display_name": "Python 3",
   "language": "python",
   "name": "python3"
  },
  "language_info": {
   "codemirror_mode": {
    "name": "ipython",
    "version": 3
   },
   "file_extension": ".py",
   "mimetype": "text/x-python",
   "name": "python",
   "nbconvert_exporter": "python",
   "pygments_lexer": "ipython3",
   "version": "3.7.3"
  }
 },
 "nbformat": 4,
 "nbformat_minor": 2
}
