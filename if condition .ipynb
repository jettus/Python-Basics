{
 "cells": [
  {
   "cell_type": "code",
   "execution_count": 1,
   "metadata": {},
   "outputs": [
    {
     "name": "stdout",
     "output_type": "stream",
     "text": [
      "b is greater\n"
     ]
    }
   ],
   "source": [
    "a = 20 \n",
    "b = 40\n",
    "if a > b:\n",
    " print(\"a is greater\")\n",
    "else:\n",
    " print(\"b is greater\")"
   ]
  },
  {
   "cell_type": "code",
   "execution_count": 2,
   "metadata": {},
   "outputs": [
    {
     "name": "stdout",
     "output_type": "stream",
     "text": [
      "40\n"
     ]
    }
   ],
   "source": [
    "a = 40 \n",
    "b = 30\n",
    "c = 80 \n",
    "if a == 40 :\n",
    "   print(a)\n",
    "elif b == 30:\n",
    "   print(b)\n",
    "else:\n",
    "   print(c)"
   ]
  },
  {
   "cell_type": "code",
   "execution_count": 3,
   "metadata": {},
   "outputs": [
    {
     "name": "stdout",
     "output_type": "stream",
     "text": [
      "30\n"
     ]
    }
   ],
   "source": [
    "a = 40 \n",
    "b = 30\n",
    "c = 80 \n",
    "if a != 40: \n",
    "   print(a)\n",
    "elif b == 30:\n",
    "   print(b)\n",
    "else:\n",
    "   print(c)"
   ]
  },
  {
   "cell_type": "code",
   "execution_count": 10,
   "metadata": {},
   "outputs": [
    {
     "name": "stdout",
     "output_type": "stream",
     "text": [
      "80\n",
      "40\n"
     ]
    }
   ],
   "source": [
    "if 20== 30:\n",
    "    print(20)\n",
    "    if a == 20:\n",
    "     print(\"30\" )\n",
    "elif 20 != 30 :\n",
    "    print(\"80\")\n",
    "    if a: \n",
    "     print(a)\n",
    "    else :\n",
    "     print(\"50\")\n",
    "elif 20 == 20:\n",
    "    print(\"20\")\n",
    "else: \n",
    "    print(\"something else\")\n",
    "    print(\"end\")\n",
    "          "
   ]
  },
  {
   "cell_type": "code",
   "execution_count": 13,
   "metadata": {},
   "outputs": [
    {
     "name": "stdout",
     "output_type": "stream",
     "text": [
      "40\n"
     ]
    }
   ],
   "source": [
    "if 20 == 30:\n",
    "   print(20)\n",
    "   if 30==30 :\n",
    "      print(30)\n",
    "elif 20==40 :\n",
    "   print(30)\n",
    "else :    \n",
    "    print(40)"
   ]
  },
  {
   "cell_type": "code",
   "execution_count": 17,
   "metadata": {},
   "outputs": [
    {
     "name": "stdout",
     "output_type": "stream",
     "text": [
      "enter the age21\n",
      "you are eligible for voting\n"
     ]
    }
   ],
   "source": [
    "val = input(\"enter the age\")\n",
    "age = int(val)\n",
    "if (age <= 0):\n",
    " print(\"invalied age\")\n",
    "elif(age > 0 and age <= 18):\n",
    " print(\"not eligible for voting\")\n",
    "else:\n",
    " print(\"you are eligible for voting\")"
   ]
  },
  {
   "cell_type": "code",
   "execution_count": 5,
   "metadata": {},
   "outputs": [
    {
     "name": "stdout",
     "output_type": "stream",
     "text": [
      "Ram loves munni\n"
     ]
    }
   ],
   "source": [
    "name = 'Ram'\n",
    "love = 'Sheela'\n",
    "love1 = 'munni'\n",
    "love3 = 'tina'\n",
    "\n",
    "if name == \"Ram\" :\n",
    "   if love == 'Sheela1':\n",
    "    print(\"ram loves sheela\")\n",
    "   elif love1 == 'munni':\n",
    "    print(\"Ram loves munni\")\n",
    "   elif love3 == 'tina1' :\n",
    "     print(\"ram loves teena\")\n",
    "   else :\n",
    "     print(\"single and ready to mingle\")\n",
    "else:\n",
    "   print(\"match not found\") "
   ]
  },
  {
   "cell_type": "code",
   "execution_count": 23,
   "metadata": {},
   "outputs": [
    {
     "name": "stdout",
     "output_type": "stream",
     "text": [
      "just sit home dude\n"
     ]
    }
   ],
   "source": [
    "#conditional statement\n",
    "#and\n",
    "movie  = \"yes\"\n",
    "money = \"no\"\n",
    "if movie == \"yes\" and money == \"yes\" :\n",
    "   print(\"watch movie\")\n",
    "else:\n",
    "    print(\"just sit home dude\")\n"
   ]
  },
  {
   "cell_type": "code",
   "execution_count": 24,
   "metadata": {},
   "outputs": [
    {
     "name": "stdout",
     "output_type": "stream",
     "text": [
      "eat biriyani\n"
     ]
    }
   ],
   "source": [
    "#or\n",
    "ing = \"no\"\n",
    "money = \"yes\"\n",
    "\n",
    " if ing==\"yes\" or money ==\"yes\" :\n",
    "   print(\"eat biriyani\")\n",
    "else:\n",
    "    print(\"no biriyani\")"
   ]
  },
  {
   "cell_type": "code",
   "execution_count": 31,
   "metadata": {},
   "outputs": [
    {
     "name": "stdout",
     "output_type": "stream",
     "text": [
      "30\n"
     ]
    }
   ],
   "source": [
    "a = 20\n",
    "if not a ==20 :\n",
    " print(a)\n",
    "else:\n",
    " print(\"30\")"
   ]
  },
  {
   "cell_type": "code",
   "execution_count": 32,
   "metadata": {},
   "outputs": [],
   "source": [
    "#loops \n",
    "# for is known as a finite loop \n",
    "#while is known as infinite loop\n",
    "#rane can take 3 values\n",
    "#starting value, ending value, stepover value\n"
   ]
  },
  {
   "cell_type": "code",
   "execution_count": 41,
   "metadata": {},
   "outputs": [
    {
     "name": "stdout",
     "output_type": "stream",
     "text": [
      "5\n",
      "7\n",
      "9\n",
      "11\n",
      "13\n",
      "15\n",
      "17\n",
      "19\n",
      "21\n",
      "23\n"
     ]
    }
   ],
   "source": [
    "for i in range(5,25,2):\n",
    "   print(i)"
   ]
  },
  {
   "cell_type": "code",
   "execution_count": 44,
   "metadata": {},
   "outputs": [
    {
     "name": "stdout",
     "output_type": "stream",
     "text": [
      "0\n",
      "1\n",
      "2\n",
      "3\n",
      "4\n"
     ]
    }
   ],
   "source": [
    "#list is an iterable object \n",
    "l = [0,1,2,3,4]\n",
    "for i in l :\n",
    "    print(i)"
   ]
  },
  {
   "cell_type": "code",
   "execution_count": 45,
   "metadata": {},
   "outputs": [
    {
     "name": "stdout",
     "output_type": "stream",
     "text": [
      "a\n",
      "1\n",
      "2\n",
      "3\n",
      "4\n"
     ]
    }
   ],
   "source": [
    "l = ['a',1,2,3,4]\n",
    "for i in l :\n",
    "    print(i)"
   ]
  },
  {
   "cell_type": "code",
   "execution_count": 47,
   "metadata": {},
   "outputs": [
    {
     "name": "stdout",
     "output_type": "stream",
     "text": [
      "enter any number10\n",
      "hello\n",
      "hello\n",
      "hello\n",
      "hello\n",
      "hello\n",
      "hello\n",
      "hello\n",
      "hello\n",
      "hello\n",
      "hello\n"
     ]
    }
   ],
   "source": [
    "val = input(\"enter any number\")\n",
    "num = int(val)\n",
    "i = 0\n",
    "for i in range(num) :\n",
    "    print(\"hello\")"
   ]
  },
  {
   "cell_type": "code",
   "execution_count": 48,
   "metadata": {},
   "outputs": [],
   "source": [
    "#while always works on condition where for always does it on iterable objects. "
   ]
  },
  {
   "cell_type": "code",
   "execution_count": 1,
   "metadata": {},
   "outputs": [],
   "source": [
    "a=20 "
   ]
  },
  {
   "cell_type": "code",
   "execution_count": 2,
   "metadata": {},
   "outputs": [],
   "source": [
    "while a == 0:\n",
    "    print(\"hello\")\n",
    "    "
   ]
  },
  {
   "cell_type": "code",
   "execution_count": null,
   "metadata": {},
   "outputs": [],
   "source": [
    "i = 0\n",
    "while i<10:\n",
    "  print(\"hello world\")\n",
    "  i=i+1"
   ]
  },
  {
   "cell_type": "code",
   "execution_count": 1,
   "metadata": {},
   "outputs": [],
   "source": []
  },
  {
   "cell_type": "code",
   "execution_count": null,
   "metadata": {},
   "outputs": [],
   "source": []
  },
  {
   "cell_type": "code",
   "execution_count": null,
   "metadata": {},
   "outputs": [],
   "source": []
  }
 ],
 "metadata": {
  "kernelspec": {
   "display_name": "Python 3",
   "language": "python",
   "name": "python3"
  },
  "language_info": {
   "codemirror_mode": {
    "name": "ipython",
    "version": 3
   },
   "file_extension": ".py",
   "mimetype": "text/x-python",
   "name": "python",
   "nbconvert_exporter": "python",
   "pygments_lexer": "ipython3",
   "version": "3.7.3"
  }
 },
 "nbformat": 4,
 "nbformat_minor": 2
}
