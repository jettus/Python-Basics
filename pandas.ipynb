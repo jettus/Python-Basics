{
 "cells": [
  {
   "cell_type": "markdown",
   "metadata": {},
   "source": [
    "## Pandas "
   ]
  },
  {
   "cell_type": "code",
   "execution_count": 97,
   "metadata": {},
   "outputs": [],
   "source": [
    "import pandas as pd"
   ]
  },
  {
   "cell_type": "code",
   "execution_count": 98,
   "metadata": {},
   "outputs": [],
   "source": [
    "students_records = {'Roll no':[1,2,3,4,5],'Names':['Rohan','Rohit','Sam','Ankit','Arpit'],'subjects':['Java','python','c++','python','ruby'],'Marks':[95,97,45,68,77]}"
   ]
  },
  {
   "cell_type": "code",
   "execution_count": 99,
   "metadata": {},
   "outputs": [
    {
     "data": {
      "text/plain": [
       "{'Roll no': [1, 2, 3, 4, 5],\n",
       " 'Names': ['Rohan', 'Rohit', 'Sam', 'Ankit', 'Arpit'],\n",
       " 'subjects': ['Java', 'python', 'c++', 'python', 'ruby'],\n",
       " 'Marks': [95, 97, 45, 68, 77]}"
      ]
     },
     "execution_count": 99,
     "metadata": {},
     "output_type": "execute_result"
    }
   ],
   "source": [
    "students_records"
   ]
  },
  {
   "cell_type": "code",
   "execution_count": 100,
   "metadata": {},
   "outputs": [],
   "source": [
    "df=pd.DataFrame(students_records)"
   ]
  },
  {
   "cell_type": "code",
   "execution_count": 101,
   "metadata": {},
   "outputs": [
    {
     "data": {
      "text/html": [
       "<div>\n",
       "<style scoped>\n",
       "    .dataframe tbody tr th:only-of-type {\n",
       "        vertical-align: middle;\n",
       "    }\n",
       "\n",
       "    .dataframe tbody tr th {\n",
       "        vertical-align: top;\n",
       "    }\n",
       "\n",
       "    .dataframe thead th {\n",
       "        text-align: right;\n",
       "    }\n",
       "</style>\n",
       "<table border=\"1\" class=\"dataframe\">\n",
       "  <thead>\n",
       "    <tr style=\"text-align: right;\">\n",
       "      <th></th>\n",
       "      <th>Roll no</th>\n",
       "      <th>Names</th>\n",
       "      <th>subjects</th>\n",
       "      <th>Marks</th>\n",
       "    </tr>\n",
       "  </thead>\n",
       "  <tbody>\n",
       "    <tr>\n",
       "      <th>0</th>\n",
       "      <td>1</td>\n",
       "      <td>Rohan</td>\n",
       "      <td>Java</td>\n",
       "      <td>95</td>\n",
       "    </tr>\n",
       "    <tr>\n",
       "      <th>1</th>\n",
       "      <td>2</td>\n",
       "      <td>Rohit</td>\n",
       "      <td>python</td>\n",
       "      <td>97</td>\n",
       "    </tr>\n",
       "    <tr>\n",
       "      <th>2</th>\n",
       "      <td>3</td>\n",
       "      <td>Sam</td>\n",
       "      <td>c++</td>\n",
       "      <td>45</td>\n",
       "    </tr>\n",
       "    <tr>\n",
       "      <th>3</th>\n",
       "      <td>4</td>\n",
       "      <td>Ankit</td>\n",
       "      <td>python</td>\n",
       "      <td>68</td>\n",
       "    </tr>\n",
       "    <tr>\n",
       "      <th>4</th>\n",
       "      <td>5</td>\n",
       "      <td>Arpit</td>\n",
       "      <td>ruby</td>\n",
       "      <td>77</td>\n",
       "    </tr>\n",
       "  </tbody>\n",
       "</table>\n",
       "</div>"
      ],
      "text/plain": [
       "   Roll no  Names subjects  Marks\n",
       "0        1  Rohan     Java     95\n",
       "1        2  Rohit   python     97\n",
       "2        3    Sam      c++     45\n",
       "3        4  Ankit   python     68\n",
       "4        5  Arpit     ruby     77"
      ]
     },
     "execution_count": 101,
     "metadata": {},
     "output_type": "execute_result"
    }
   ],
   "source": [
    "df #tabuler format"
   ]
  },
  {
   "cell_type": "code",
   "execution_count": 102,
   "metadata": {},
   "outputs": [
    {
     "data": {
      "text/plain": [
       "0    Rohan\n",
       "1    Rohit\n",
       "2      Sam\n",
       "3    Ankit\n",
       "4    Arpit\n",
       "Name: Names, dtype: object"
      ]
     },
     "execution_count": 102,
     "metadata": {},
     "output_type": "execute_result"
    }
   ],
   "source": [
    "df['Names']"
   ]
  },
  {
   "cell_type": "code",
   "execution_count": 103,
   "metadata": {},
   "outputs": [
    {
     "data": {
      "text/plain": [
       "pandas.core.frame.DataFrame"
      ]
     },
     "execution_count": 103,
     "metadata": {},
     "output_type": "execute_result"
    }
   ],
   "source": [
    "type(df)"
   ]
  },
  {
   "cell_type": "code",
   "execution_count": 104,
   "metadata": {},
   "outputs": [
    {
     "data": {
      "text/plain": [
       "20"
      ]
     },
     "execution_count": 104,
     "metadata": {},
     "output_type": "execute_result"
    }
   ],
   "source": [
    "df.size"
   ]
  },
  {
   "cell_type": "code",
   "execution_count": 105,
   "metadata": {},
   "outputs": [
    {
     "data": {
      "text/plain": [
       "2"
      ]
     },
     "execution_count": 105,
     "metadata": {},
     "output_type": "execute_result"
    }
   ],
   "source": [
    "df.ndim #dimension"
   ]
  },
  {
   "cell_type": "code",
   "execution_count": 25,
   "metadata": {},
   "outputs": [
    {
     "data": {
      "text/plain": [
       "Roll no      int64\n",
       "Names       object\n",
       "subjects    object\n",
       "Marks        int64\n",
       "dtype: object"
      ]
     },
     "execution_count": 25,
     "metadata": {},
     "output_type": "execute_result"
    }
   ],
   "source": [
    "df.dtypes #data types"
   ]
  },
  {
   "cell_type": "markdown",
   "metadata": {},
   "source": [
    "## pandas SQL"
   ]
  },
  {
   "cell_type": "code",
   "execution_count": 33,
   "metadata": {},
   "outputs": [
    {
     "data": {
      "text/plain": [
       "97"
      ]
     },
     "execution_count": 33,
     "metadata": {},
     "output_type": "execute_result"
    }
   ],
   "source": [
    "df['Marks'].max()"
   ]
  },
  {
   "cell_type": "code",
   "execution_count": 34,
   "metadata": {},
   "outputs": [
    {
     "data": {
      "text/plain": [
       "1    Rohit\n",
       "Name: Names, dtype: object"
      ]
     },
     "execution_count": 34,
     "metadata": {},
     "output_type": "execute_result"
    }
   ],
   "source": [
    "df['Names'][df['Marks']==df['Marks'].max()] "
   ]
  },
  {
   "cell_type": "code",
   "execution_count": 36,
   "metadata": {},
   "outputs": [
    {
     "data": {
      "text/plain": [
       "0    Rohan\n",
       "1    Rohit\n",
       "4    Arpit\n",
       "Name: Names, dtype: object"
      ]
     },
     "execution_count": 36,
     "metadata": {},
     "output_type": "execute_result"
    }
   ],
   "source": [
    "df['Names'][df['Marks']>70]"
   ]
  },
  {
   "cell_type": "code",
   "execution_count": 40,
   "metadata": {},
   "outputs": [
    {
     "data": {
      "text/html": [
       "<div>\n",
       "<style scoped>\n",
       "    .dataframe tbody tr th:only-of-type {\n",
       "        vertical-align: middle;\n",
       "    }\n",
       "\n",
       "    .dataframe tbody tr th {\n",
       "        vertical-align: top;\n",
       "    }\n",
       "\n",
       "    .dataframe thead th {\n",
       "        text-align: right;\n",
       "    }\n",
       "</style>\n",
       "<table border=\"1\" class=\"dataframe\">\n",
       "  <thead>\n",
       "    <tr style=\"text-align: right;\">\n",
       "      <th></th>\n",
       "      <th>Names</th>\n",
       "      <th>subjects</th>\n",
       "      <th>Marks</th>\n",
       "    </tr>\n",
       "  </thead>\n",
       "  <tbody>\n",
       "    <tr>\n",
       "      <th>1</th>\n",
       "      <td>Rohit</td>\n",
       "      <td>python</td>\n",
       "      <td>97</td>\n",
       "    </tr>\n",
       "  </tbody>\n",
       "</table>\n",
       "</div>"
      ],
      "text/plain": [
       "   Names subjects  Marks\n",
       "1  Rohit   python     97"
      ]
     },
     "execution_count": 40,
     "metadata": {},
     "output_type": "execute_result"
    }
   ],
   "source": [
    "df[['Names','subjects','Marks']][df['Marks']==df['Marks'].max()]"
   ]
  },
  {
   "cell_type": "code",
   "execution_count": 41,
   "metadata": {},
   "outputs": [
    {
     "data": {
      "text/html": [
       "<div>\n",
       "<style scoped>\n",
       "    .dataframe tbody tr th:only-of-type {\n",
       "        vertical-align: middle;\n",
       "    }\n",
       "\n",
       "    .dataframe tbody tr th {\n",
       "        vertical-align: top;\n",
       "    }\n",
       "\n",
       "    .dataframe thead th {\n",
       "        text-align: right;\n",
       "    }\n",
       "</style>\n",
       "<table border=\"1\" class=\"dataframe\">\n",
       "  <thead>\n",
       "    <tr style=\"text-align: right;\">\n",
       "      <th></th>\n",
       "      <th>Roll no</th>\n",
       "      <th>Names</th>\n",
       "      <th>subjects</th>\n",
       "      <th>Marks</th>\n",
       "    </tr>\n",
       "  </thead>\n",
       "  <tbody>\n",
       "    <tr>\n",
       "      <th>1</th>\n",
       "      <td>2</td>\n",
       "      <td>Rohit</td>\n",
       "      <td>python</td>\n",
       "      <td>97</td>\n",
       "    </tr>\n",
       "  </tbody>\n",
       "</table>\n",
       "</div>"
      ],
      "text/plain": [
       "   Roll no  Names subjects  Marks\n",
       "1        2  Rohit   python     97"
      ]
     },
     "execution_count": 41,
     "metadata": {},
     "output_type": "execute_result"
    }
   ],
   "source": [
    "df[:][df['Marks']==df['Marks'].max()]"
   ]
  },
  {
   "cell_type": "code",
   "execution_count": 42,
   "metadata": {},
   "outputs": [
    {
     "data": {
      "text/html": [
       "<div>\n",
       "<style scoped>\n",
       "    .dataframe tbody tr th:only-of-type {\n",
       "        vertical-align: middle;\n",
       "    }\n",
       "\n",
       "    .dataframe tbody tr th {\n",
       "        vertical-align: top;\n",
       "    }\n",
       "\n",
       "    .dataframe thead th {\n",
       "        text-align: right;\n",
       "    }\n",
       "</style>\n",
       "<table border=\"1\" class=\"dataframe\">\n",
       "  <thead>\n",
       "    <tr style=\"text-align: right;\">\n",
       "      <th></th>\n",
       "      <th>Roll no</th>\n",
       "      <th>Names</th>\n",
       "      <th>subjects</th>\n",
       "      <th>Marks</th>\n",
       "    </tr>\n",
       "  </thead>\n",
       "  <tbody>\n",
       "    <tr>\n",
       "      <th>1</th>\n",
       "      <td>2</td>\n",
       "      <td>Rohit</td>\n",
       "      <td>python</td>\n",
       "      <td>97</td>\n",
       "    </tr>\n",
       "  </tbody>\n",
       "</table>\n",
       "</div>"
      ],
      "text/plain": [
       "   Roll no  Names subjects  Marks\n",
       "1        2  Rohit   python     97"
      ]
     },
     "execution_count": 42,
     "metadata": {},
     "output_type": "execute_result"
    }
   ],
   "source": [
    "df[df['Marks']==df['Marks'].max()]"
   ]
  },
  {
   "cell_type": "code",
   "execution_count": 43,
   "metadata": {},
   "outputs": [
    {
     "data": {
      "text/plain": [
       "76.4"
      ]
     },
     "execution_count": 43,
     "metadata": {},
     "output_type": "execute_result"
    }
   ],
   "source": [
    "df['Marks'].mean()"
   ]
  },
  {
   "cell_type": "code",
   "execution_count": 44,
   "metadata": {},
   "outputs": [
    {
     "data": {
      "text/plain": [
       "77.0"
      ]
     },
     "execution_count": 44,
     "metadata": {},
     "output_type": "execute_result"
    }
   ],
   "source": [
    "df['Marks'].median()"
   ]
  },
  {
   "cell_type": "code",
   "execution_count": 47,
   "metadata": {},
   "outputs": [],
   "source": [
    "import numpy as np\n",
    "students_record= {'Roll no':[1,2,3,4,5],'Names':['Rohan','Rohit','Sam','Ankit','Arpit'],'Subjects' :['java','Python','c++','Python','Ruby'],'Marks' :[95,97,np.nan,68,77]}"
   ]
  },
  {
   "cell_type": "code",
   "execution_count": 48,
   "metadata": {},
   "outputs": [
    {
     "data": {
      "text/plain": [
       "{'Roll no': [1, 2, 3, 4, 5],\n",
       " 'Names': ['Rohan', 'Rohit', 'Sam', 'Ankit', 'Arpit'],\n",
       " 'subjects': ['Java', 'python', 'c++', 'python', 'ruby'],\n",
       " 'Marks': [95, 97, 45, 68, 77]}"
      ]
     },
     "execution_count": 48,
     "metadata": {},
     "output_type": "execute_result"
    }
   ],
   "source": [
    "students_records"
   ]
  },
  {
   "cell_type": "code",
   "execution_count": 51,
   "metadata": {},
   "outputs": [],
   "source": [
    "df = pd.DataFrame(students_record)"
   ]
  },
  {
   "cell_type": "code",
   "execution_count": 53,
   "metadata": {},
   "outputs": [
    {
     "data": {
      "text/html": [
       "<div>\n",
       "<style scoped>\n",
       "    .dataframe tbody tr th:only-of-type {\n",
       "        vertical-align: middle;\n",
       "    }\n",
       "\n",
       "    .dataframe tbody tr th {\n",
       "        vertical-align: top;\n",
       "    }\n",
       "\n",
       "    .dataframe thead th {\n",
       "        text-align: right;\n",
       "    }\n",
       "</style>\n",
       "<table border=\"1\" class=\"dataframe\">\n",
       "  <thead>\n",
       "    <tr style=\"text-align: right;\">\n",
       "      <th></th>\n",
       "      <th>Roll no</th>\n",
       "      <th>Names</th>\n",
       "      <th>Subjects</th>\n",
       "      <th>Marks</th>\n",
       "    </tr>\n",
       "  </thead>\n",
       "  <tbody>\n",
       "    <tr>\n",
       "      <th>0</th>\n",
       "      <td>1</td>\n",
       "      <td>Rohan</td>\n",
       "      <td>java</td>\n",
       "      <td>95.0</td>\n",
       "    </tr>\n",
       "    <tr>\n",
       "      <th>1</th>\n",
       "      <td>2</td>\n",
       "      <td>Rohit</td>\n",
       "      <td>Python</td>\n",
       "      <td>97.0</td>\n",
       "    </tr>\n",
       "    <tr>\n",
       "      <th>2</th>\n",
       "      <td>3</td>\n",
       "      <td>Sam</td>\n",
       "      <td>c++</td>\n",
       "      <td>NaN</td>\n",
       "    </tr>\n",
       "    <tr>\n",
       "      <th>3</th>\n",
       "      <td>4</td>\n",
       "      <td>Ankit</td>\n",
       "      <td>Python</td>\n",
       "      <td>68.0</td>\n",
       "    </tr>\n",
       "    <tr>\n",
       "      <th>4</th>\n",
       "      <td>5</td>\n",
       "      <td>Arpit</td>\n",
       "      <td>Ruby</td>\n",
       "      <td>77.0</td>\n",
       "    </tr>\n",
       "  </tbody>\n",
       "</table>\n",
       "</div>"
      ],
      "text/plain": [
       "   Roll no  Names Subjects  Marks\n",
       "0        1  Rohan     java   95.0\n",
       "1        2  Rohit   Python   97.0\n",
       "2        3    Sam      c++    NaN\n",
       "3        4  Ankit   Python   68.0\n",
       "4        5  Arpit     Ruby   77.0"
      ]
     },
     "execution_count": 53,
     "metadata": {},
     "output_type": "execute_result"
    }
   ],
   "source": [
    "df"
   ]
  },
  {
   "cell_type": "code",
   "execution_count": 55,
   "metadata": {},
   "outputs": [],
   "source": [
    "df=pd.read_csv('Min_Max_Seasonal.csv')"
   ]
  },
  {
   "cell_type": "code",
   "execution_count": 56,
   "metadata": {},
   "outputs": [
    {
     "data": {
      "text/html": [
       "<div>\n",
       "<style scoped>\n",
       "    .dataframe tbody tr th:only-of-type {\n",
       "        vertical-align: middle;\n",
       "    }\n",
       "\n",
       "    .dataframe tbody tr th {\n",
       "        vertical-align: top;\n",
       "    }\n",
       "\n",
       "    .dataframe thead th {\n",
       "        text-align: right;\n",
       "    }\n",
       "</style>\n",
       "<table border=\"1\" class=\"dataframe\">\n",
       "  <thead>\n",
       "    <tr style=\"text-align: right;\">\n",
       "      <th></th>\n",
       "      <th>YEAR</th>\n",
       "      <th>ANNUAL - MIN</th>\n",
       "      <th>ANNUAL - MAX</th>\n",
       "      <th>JAN-FEB - MIN</th>\n",
       "      <th>JAN-FEB - MAX</th>\n",
       "      <th>MAR-MAY - MIN</th>\n",
       "      <th>MAR-MAY - MAX</th>\n",
       "      <th>JUN-SEP - MIN</th>\n",
       "      <th>JUN-SEP - MAX</th>\n",
       "      <th>OCT-DEC - MIN</th>\n",
       "      <th>OCT-DEC - MAX</th>\n",
       "    </tr>\n",
       "  </thead>\n",
       "  <tbody>\n",
       "    <tr>\n",
       "      <th>0</th>\n",
       "      <td>2000</td>\n",
       "      <td>19.48</td>\n",
       "      <td>29.75</td>\n",
       "      <td>13.84</td>\n",
       "      <td>24.82</td>\n",
       "      <td>20.77</td>\n",
       "      <td>32.22</td>\n",
       "      <td>23.25</td>\n",
       "      <td>31.25</td>\n",
       "      <td>16.88</td>\n",
       "      <td>28.53</td>\n",
       "    </tr>\n",
       "    <tr>\n",
       "      <th>1</th>\n",
       "      <td>2001</td>\n",
       "      <td>19.49</td>\n",
       "      <td>29.99</td>\n",
       "      <td>13.60</td>\n",
       "      <td>25.88</td>\n",
       "      <td>21.04</td>\n",
       "      <td>32.61</td>\n",
       "      <td>23.36</td>\n",
       "      <td>31.62</td>\n",
       "      <td>16.95</td>\n",
       "      <td>28.13</td>\n",
       "    </tr>\n",
       "    <tr>\n",
       "      <th>2</th>\n",
       "      <td>2002</td>\n",
       "      <td>19.78</td>\n",
       "      <td>30.23</td>\n",
       "      <td>13.93</td>\n",
       "      <td>25.37</td>\n",
       "      <td>21.38</td>\n",
       "      <td>33.06</td>\n",
       "      <td>23.41</td>\n",
       "      <td>32.02</td>\n",
       "      <td>16.79</td>\n",
       "      <td>28.36</td>\n",
       "    </tr>\n",
       "    <tr>\n",
       "      <th>3</th>\n",
       "      <td>2003</td>\n",
       "      <td>19.70</td>\n",
       "      <td>29.75</td>\n",
       "      <td>14.32</td>\n",
       "      <td>25.32</td>\n",
       "      <td>21.00</td>\n",
       "      <td>32.05</td>\n",
       "      <td>23.56</td>\n",
       "      <td>31.72</td>\n",
       "      <td>16.76</td>\n",
       "      <td>27.70</td>\n",
       "    </tr>\n",
       "    <tr>\n",
       "      <th>4</th>\n",
       "      <td>2004</td>\n",
       "      <td>19.69</td>\n",
       "      <td>29.79</td>\n",
       "      <td>14.39</td>\n",
       "      <td>25.47</td>\n",
       "      <td>21.30</td>\n",
       "      <td>32.69</td>\n",
       "      <td>23.27</td>\n",
       "      <td>31.42</td>\n",
       "      <td>16.84</td>\n",
       "      <td>27.65</td>\n",
       "    </tr>\n",
       "    <tr>\n",
       "      <th>5</th>\n",
       "      <td>2005</td>\n",
       "      <td>19.58</td>\n",
       "      <td>29.60</td>\n",
       "      <td>14.63</td>\n",
       "      <td>24.96</td>\n",
       "      <td>20.85</td>\n",
       "      <td>31.81</td>\n",
       "      <td>23.46</td>\n",
       "      <td>31.84</td>\n",
       "      <td>16.43</td>\n",
       "      <td>27.50</td>\n",
       "    </tr>\n",
       "    <tr>\n",
       "      <th>6</th>\n",
       "      <td>2006</td>\n",
       "      <td>20.07</td>\n",
       "      <td>30.06</td>\n",
       "      <td>15.47</td>\n",
       "      <td>27.44</td>\n",
       "      <td>20.96</td>\n",
       "      <td>32.08</td>\n",
       "      <td>23.44</td>\n",
       "      <td>31.39</td>\n",
       "      <td>17.56</td>\n",
       "      <td>27.78</td>\n",
       "    </tr>\n",
       "    <tr>\n",
       "      <th>7</th>\n",
       "      <td>2007</td>\n",
       "      <td>19.69</td>\n",
       "      <td>29.84</td>\n",
       "      <td>14.47</td>\n",
       "      <td>25.73</td>\n",
       "      <td>21.06</td>\n",
       "      <td>32.32</td>\n",
       "      <td>23.59</td>\n",
       "      <td>31.40</td>\n",
       "      <td>16.62</td>\n",
       "      <td>28.03</td>\n",
       "    </tr>\n",
       "    <tr>\n",
       "      <th>8</th>\n",
       "      <td>2008</td>\n",
       "      <td>19.60</td>\n",
       "      <td>29.64</td>\n",
       "      <td>13.60</td>\n",
       "      <td>24.72</td>\n",
       "      <td>20.82</td>\n",
       "      <td>32.11</td>\n",
       "      <td>23.30</td>\n",
       "      <td>31.25</td>\n",
       "      <td>17.43</td>\n",
       "      <td>28.29</td>\n",
       "    </tr>\n",
       "    <tr>\n",
       "      <th>9</th>\n",
       "      <td>2009</td>\n",
       "      <td>19.94</td>\n",
       "      <td>30.30</td>\n",
       "      <td>14.95</td>\n",
       "      <td>26.51</td>\n",
       "      <td>21.15</td>\n",
       "      <td>32.57</td>\n",
       "      <td>23.59</td>\n",
       "      <td>32.24</td>\n",
       "      <td>17.20</td>\n",
       "      <td>27.96</td>\n",
       "    </tr>\n",
       "    <tr>\n",
       "      <th>10</th>\n",
       "      <td>2010</td>\n",
       "      <td>20.15</td>\n",
       "      <td>30.13</td>\n",
       "      <td>14.51</td>\n",
       "      <td>25.96</td>\n",
       "      <td>22.09</td>\n",
       "      <td>33.47</td>\n",
       "      <td>23.57</td>\n",
       "      <td>31.43</td>\n",
       "      <td>17.42</td>\n",
       "      <td>27.78</td>\n",
       "    </tr>\n",
       "    <tr>\n",
       "      <th>11</th>\n",
       "      <td>2011</td>\n",
       "      <td>19.58</td>\n",
       "      <td>29.82</td>\n",
       "      <td>13.84</td>\n",
       "      <td>25.33</td>\n",
       "      <td>20.68</td>\n",
       "      <td>32.07</td>\n",
       "      <td>23.56</td>\n",
       "      <td>31.55</td>\n",
       "      <td>17.16</td>\n",
       "      <td>28.23</td>\n",
       "    </tr>\n",
       "    <tr>\n",
       "      <th>12</th>\n",
       "      <td>2012</td>\n",
       "      <td>19.54</td>\n",
       "      <td>29.81</td>\n",
       "      <td>13.68</td>\n",
       "      <td>25.03</td>\n",
       "      <td>20.78</td>\n",
       "      <td>32.33</td>\n",
       "      <td>23.68</td>\n",
       "      <td>31.77</td>\n",
       "      <td>16.80</td>\n",
       "      <td>27.88</td>\n",
       "    </tr>\n",
       "    <tr>\n",
       "      <th>13</th>\n",
       "      <td>2013</td>\n",
       "      <td>19.83</td>\n",
       "      <td>29.81</td>\n",
       "      <td>14.38</td>\n",
       "      <td>25.58</td>\n",
       "      <td>21.14</td>\n",
       "      <td>32.58</td>\n",
       "      <td>23.61</td>\n",
       "      <td>31.33</td>\n",
       "      <td>16.82</td>\n",
       "      <td>27.83</td>\n",
       "    </tr>\n",
       "    <tr>\n",
       "      <th>14</th>\n",
       "      <td>2014</td>\n",
       "      <td>19.77</td>\n",
       "      <td>29.72</td>\n",
       "      <td>14.26</td>\n",
       "      <td>24.90</td>\n",
       "      <td>20.66</td>\n",
       "      <td>31.82</td>\n",
       "      <td>23.80</td>\n",
       "      <td>32.00</td>\n",
       "      <td>17.20</td>\n",
       "      <td>27.81</td>\n",
       "    </tr>\n",
       "    <tr>\n",
       "      <th>15</th>\n",
       "      <td>2015</td>\n",
       "      <td>19.96</td>\n",
       "      <td>29.90</td>\n",
       "      <td>14.53</td>\n",
       "      <td>25.74</td>\n",
       "      <td>20.91</td>\n",
       "      <td>31.68</td>\n",
       "      <td>23.62</td>\n",
       "      <td>31.87</td>\n",
       "      <td>17.75</td>\n",
       "      <td>28.27</td>\n",
       "    </tr>\n",
       "    <tr>\n",
       "      <th>16</th>\n",
       "      <td>2016</td>\n",
       "      <td>21.28</td>\n",
       "      <td>31.63</td>\n",
       "      <td>16.17</td>\n",
       "      <td>28.33</td>\n",
       "      <td>23.15</td>\n",
       "      <td>34.57</td>\n",
       "      <td>24.61</td>\n",
       "      <td>32.28</td>\n",
       "      <td>18.37</td>\n",
       "      <td>30.03</td>\n",
       "    </tr>\n",
       "  </tbody>\n",
       "</table>\n",
       "</div>"
      ],
      "text/plain": [
       "    YEAR  ANNUAL - MIN  ANNUAL - MAX  JAN-FEB - MIN  JAN-FEB - MAX  \\\n",
       "0   2000         19.48         29.75          13.84          24.82   \n",
       "1   2001         19.49         29.99          13.60          25.88   \n",
       "2   2002         19.78         30.23          13.93          25.37   \n",
       "3   2003         19.70         29.75          14.32          25.32   \n",
       "4   2004         19.69         29.79          14.39          25.47   \n",
       "5   2005         19.58         29.60          14.63          24.96   \n",
       "6   2006         20.07         30.06          15.47          27.44   \n",
       "7   2007         19.69         29.84          14.47          25.73   \n",
       "8   2008         19.60         29.64          13.60          24.72   \n",
       "9   2009         19.94         30.30          14.95          26.51   \n",
       "10  2010         20.15         30.13          14.51          25.96   \n",
       "11  2011         19.58         29.82          13.84          25.33   \n",
       "12  2012         19.54         29.81          13.68          25.03   \n",
       "13  2013         19.83         29.81          14.38          25.58   \n",
       "14  2014         19.77         29.72          14.26          24.90   \n",
       "15  2015         19.96         29.90          14.53          25.74   \n",
       "16  2016         21.28         31.63          16.17          28.33   \n",
       "\n",
       "    MAR-MAY - MIN  MAR-MAY - MAX  JUN-SEP - MIN  JUN-SEP - MAX  OCT-DEC - MIN  \\\n",
       "0           20.77          32.22          23.25          31.25          16.88   \n",
       "1           21.04          32.61          23.36          31.62          16.95   \n",
       "2           21.38          33.06          23.41          32.02          16.79   \n",
       "3           21.00          32.05          23.56          31.72          16.76   \n",
       "4           21.30          32.69          23.27          31.42          16.84   \n",
       "5           20.85          31.81          23.46          31.84          16.43   \n",
       "6           20.96          32.08          23.44          31.39          17.56   \n",
       "7           21.06          32.32          23.59          31.40          16.62   \n",
       "8           20.82          32.11          23.30          31.25          17.43   \n",
       "9           21.15          32.57          23.59          32.24          17.20   \n",
       "10          22.09          33.47          23.57          31.43          17.42   \n",
       "11          20.68          32.07          23.56          31.55          17.16   \n",
       "12          20.78          32.33          23.68          31.77          16.80   \n",
       "13          21.14          32.58          23.61          31.33          16.82   \n",
       "14          20.66          31.82          23.80          32.00          17.20   \n",
       "15          20.91          31.68          23.62          31.87          17.75   \n",
       "16          23.15          34.57          24.61          32.28          18.37   \n",
       "\n",
       "    OCT-DEC - MAX  \n",
       "0           28.53  \n",
       "1           28.13  \n",
       "2           28.36  \n",
       "3           27.70  \n",
       "4           27.65  \n",
       "5           27.50  \n",
       "6           27.78  \n",
       "7           28.03  \n",
       "8           28.29  \n",
       "9           27.96  \n",
       "10          27.78  \n",
       "11          28.23  \n",
       "12          27.88  \n",
       "13          27.83  \n",
       "14          27.81  \n",
       "15          28.27  \n",
       "16          30.03  "
      ]
     },
     "execution_count": 56,
     "metadata": {},
     "output_type": "execute_result"
    }
   ],
   "source": [
    "df"
   ]
  },
  {
   "cell_type": "code",
   "execution_count": 57,
   "metadata": {},
   "outputs": [
    {
     "data": {
      "text/plain": [
       "pandas.core.frame.DataFrame"
      ]
     },
     "execution_count": 57,
     "metadata": {},
     "output_type": "execute_result"
    }
   ],
   "source": [
    "type(df)"
   ]
  },
  {
   "cell_type": "code",
   "execution_count": 58,
   "metadata": {},
   "outputs": [
    {
     "data": {
      "text/plain": [
       "187"
      ]
     },
     "execution_count": 58,
     "metadata": {},
     "output_type": "execute_result"
    }
   ],
   "source": [
    "df.size"
   ]
  },
  {
   "cell_type": "code",
   "execution_count": 59,
   "metadata": {},
   "outputs": [
    {
     "data": {
      "text/plain": [
       "2"
      ]
     },
     "execution_count": 59,
     "metadata": {},
     "output_type": "execute_result"
    }
   ],
   "source": [
    "df.ndim"
   ]
  },
  {
   "cell_type": "code",
   "execution_count": 65,
   "metadata": {},
   "outputs": [
    {
     "data": {
      "text/plain": [
       "28.33"
      ]
     },
     "execution_count": 65,
     "metadata": {},
     "output_type": "execute_result"
    }
   ],
   "source": [
    "df['JAN-FEB - MAX'].max()"
   ]
  },
  {
   "cell_type": "code",
   "execution_count": 71,
   "metadata": {},
   "outputs": [
    {
     "data": {
      "text/plain": [
       "16    2016\n",
       "Name: YEAR, dtype: int64"
      ]
     },
     "execution_count": 71,
     "metadata": {},
     "output_type": "execute_result"
    }
   ],
   "source": [
    "df['YEAR'][df['ANNUAL - MIN'] ==df['ANNUAL - MIN'].max()]"
   ]
  },
  {
   "cell_type": "code",
   "execution_count": 72,
   "metadata": {},
   "outputs": [],
   "source": [
    "## creating Dataframe using list of tuples"
   ]
  },
  {
   "cell_type": "code",
   "execution_count": 73,
   "metadata": {},
   "outputs": [
    {
     "data": {
      "text/plain": [
       "[(1, 'Rohit'), (2, 'Rohan')]"
      ]
     },
     "execution_count": 73,
     "metadata": {},
     "output_type": "execute_result"
    }
   ],
   "source": [
    "students_records = [(1,'Rohit'),(2,'Rohan')]\n",
    "students_records"
   ]
  },
  {
   "cell_type": "code",
   "execution_count": 77,
   "metadata": {},
   "outputs": [],
   "source": [
    "df=pd.DataFrame(students_records,columns=['RollNo','Names'])"
   ]
  },
  {
   "cell_type": "code",
   "execution_count": 78,
   "metadata": {},
   "outputs": [
    {
     "data": {
      "text/html": [
       "<div>\n",
       "<style scoped>\n",
       "    .dataframe tbody tr th:only-of-type {\n",
       "        vertical-align: middle;\n",
       "    }\n",
       "\n",
       "    .dataframe tbody tr th {\n",
       "        vertical-align: top;\n",
       "    }\n",
       "\n",
       "    .dataframe thead th {\n",
       "        text-align: right;\n",
       "    }\n",
       "</style>\n",
       "<table border=\"1\" class=\"dataframe\">\n",
       "  <thead>\n",
       "    <tr style=\"text-align: right;\">\n",
       "      <th></th>\n",
       "      <th>RollNo</th>\n",
       "      <th>Names</th>\n",
       "    </tr>\n",
       "  </thead>\n",
       "  <tbody>\n",
       "    <tr>\n",
       "      <th>0</th>\n",
       "      <td>1</td>\n",
       "      <td>Rohit</td>\n",
       "    </tr>\n",
       "    <tr>\n",
       "      <th>1</th>\n",
       "      <td>2</td>\n",
       "      <td>Rohan</td>\n",
       "    </tr>\n",
       "  </tbody>\n",
       "</table>\n",
       "</div>"
      ],
      "text/plain": [
       "   RollNo  Names\n",
       "0       1  Rohit\n",
       "1       2  Rohan"
      ]
     },
     "execution_count": 78,
     "metadata": {},
     "output_type": "execute_result"
    }
   ],
   "source": [
    "df"
   ]
  },
  {
   "cell_type": "markdown",
   "metadata": {},
   "source": [
    "## creating Dataframe using list of list"
   ]
  },
  {
   "cell_type": "code",
   "execution_count": 81,
   "metadata": {},
   "outputs": [
    {
     "data": {
      "text/plain": [
       "[[1, 'Rohit'], [2, 'Rohan']]"
      ]
     },
     "execution_count": 81,
     "metadata": {},
     "output_type": "execute_result"
    }
   ],
   "source": [
    "students_records = [[1,'Rohit'],[2,'Rohan']]\n",
    "students_records"
   ]
  },
  {
   "cell_type": "code",
   "execution_count": 83,
   "metadata": {},
   "outputs": [],
   "source": [
    "df =pd.DataFrame(students_records,columns=['RollNo','Names'])"
   ]
  },
  {
   "cell_type": "code",
   "execution_count": 84,
   "metadata": {},
   "outputs": [
    {
     "data": {
      "text/html": [
       "<div>\n",
       "<style scoped>\n",
       "    .dataframe tbody tr th:only-of-type {\n",
       "        vertical-align: middle;\n",
       "    }\n",
       "\n",
       "    .dataframe tbody tr th {\n",
       "        vertical-align: top;\n",
       "    }\n",
       "\n",
       "    .dataframe thead th {\n",
       "        text-align: right;\n",
       "    }\n",
       "</style>\n",
       "<table border=\"1\" class=\"dataframe\">\n",
       "  <thead>\n",
       "    <tr style=\"text-align: right;\">\n",
       "      <th></th>\n",
       "      <th>RollNo</th>\n",
       "      <th>Names</th>\n",
       "    </tr>\n",
       "  </thead>\n",
       "  <tbody>\n",
       "    <tr>\n",
       "      <th>0</th>\n",
       "      <td>1</td>\n",
       "      <td>Rohit</td>\n",
       "    </tr>\n",
       "    <tr>\n",
       "      <th>1</th>\n",
       "      <td>2</td>\n",
       "      <td>Rohan</td>\n",
       "    </tr>\n",
       "  </tbody>\n",
       "</table>\n",
       "</div>"
      ],
      "text/plain": [
       "   RollNo  Names\n",
       "0       1  Rohit\n",
       "1       2  Rohan"
      ]
     },
     "execution_count": 84,
     "metadata": {},
     "output_type": "execute_result"
    }
   ],
   "source": [
    "df"
   ]
  },
  {
   "cell_type": "code",
   "execution_count": 91,
   "metadata": {},
   "outputs": [],
   "source": [
    "## creating datframe using list of dict"
   ]
  },
  {
   "cell_type": "code",
   "execution_count": 92,
   "metadata": {},
   "outputs": [],
   "source": [
    "students_records = [{'Roll no': 1,'Namees' :'Rohan'},\n",
    "                    {'Roll no': 2,'Namees' :'Rohit'},\n",
    "                   {'Roll no': 3,'Namees' :'Sam'}\n",
    "                   ]"
   ]
  },
  {
   "cell_type": "code",
   "execution_count": 93,
   "metadata": {},
   "outputs": [
    {
     "data": {
      "text/plain": [
       "[{'Roll no': 1, 'Namees': 'Rohan'},\n",
       " {'Roll no': 2, 'Namees': 'Rohit'},\n",
       " {'Roll no': 3, 'Namees': 'Sam'}]"
      ]
     },
     "execution_count": 93,
     "metadata": {},
     "output_type": "execute_result"
    }
   ],
   "source": [
    "students_records "
   ]
  },
  {
   "cell_type": "code",
   "execution_count": 94,
   "metadata": {},
   "outputs": [],
   "source": [
    "df=pd.DataFrame(students_records)"
   ]
  },
  {
   "cell_type": "code",
   "execution_count": 90,
   "metadata": {},
   "outputs": [
    {
     "data": {
      "text/html": [
       "<div>\n",
       "<style scoped>\n",
       "    .dataframe tbody tr th:only-of-type {\n",
       "        vertical-align: middle;\n",
       "    }\n",
       "\n",
       "    .dataframe tbody tr th {\n",
       "        vertical-align: top;\n",
       "    }\n",
       "\n",
       "    .dataframe thead th {\n",
       "        text-align: right;\n",
       "    }\n",
       "</style>\n",
       "<table border=\"1\" class=\"dataframe\">\n",
       "  <thead>\n",
       "    <tr style=\"text-align: right;\">\n",
       "      <th></th>\n",
       "      <th>Namees</th>\n",
       "      <th>Roll no</th>\n",
       "    </tr>\n",
       "  </thead>\n",
       "  <tbody>\n",
       "    <tr>\n",
       "      <th>0</th>\n",
       "      <td>Rohan</td>\n",
       "      <td>1</td>\n",
       "    </tr>\n",
       "    <tr>\n",
       "      <th>1</th>\n",
       "      <td>Rohit</td>\n",
       "      <td>2</td>\n",
       "    </tr>\n",
       "    <tr>\n",
       "      <th>2</th>\n",
       "      <td>Sam</td>\n",
       "      <td>3</td>\n",
       "    </tr>\n",
       "  </tbody>\n",
       "</table>\n",
       "</div>"
      ],
      "text/plain": [
       "  Namees  Roll no\n",
       "0  Rohan        1\n",
       "1  Rohit        2\n",
       "2    Sam        3"
      ]
     },
     "execution_count": 90,
     "metadata": {},
     "output_type": "execute_result"
    }
   ],
   "source": [
    "df"
   ]
  },
  {
   "cell_type": "code",
   "execution_count": null,
   "metadata": {},
   "outputs": [],
   "source": []
  }
 ],
 "metadata": {
  "kernelspec": {
   "display_name": "Python 3",
   "language": "python",
   "name": "python3"
  },
  "language_info": {
   "codemirror_mode": {
    "name": "ipython",
    "version": 3
   },
   "file_extension": ".py",
   "mimetype": "text/x-python",
   "name": "python",
   "nbconvert_exporter": "python",
   "pygments_lexer": "ipython3",
   "version": "3.7.3"
  }
 },
 "nbformat": 4,
 "nbformat_minor": 2
}
