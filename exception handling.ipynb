{
 "cells": [
  {
   "cell_type": "raw",
   "metadata": {},
   "source": [
    "#expeceptional handling "
   ]
  },
  {
   "cell_type": "code",
   "execution_count": null,
   "metadata": {},
   "outputs": [],
   "source": [
    "b=c #NameError - category or class name."
   ]
  },
  {
   "cell_type": "code",
   "execution_count": null,
   "metadata": {},
   "outputs": [],
   "source": [
    "s=\"hi python\"\n",
    "\n",
    "s.index(\"java\") #value error - category or class name."
   ]
  },
  {
   "cell_type": "code",
   "execution_count": null,
   "metadata": {},
   "outputs": [],
   "source": [
    "#exception - any kind of event that break the flow of the program"
   ]
  },
  {
   "cell_type": "code",
   "execution_count": null,
   "metadata": {},
   "outputs": [],
   "source": [
    "a=20\n",
    "s=\"hi python\"\n",
    "print(a)\n",
    "s.index(\"java\") #exception  - flow is broken.\n",
    "print(\"End\")"
   ]
  },
  {
   "cell_type": "code",
   "execution_count": null,
   "metadata": {},
   "outputs": [],
   "source": [
    "a=20\n",
    "s=\"hi python\"\n",
    "print(a)\n",
    "try:  \n",
    "    s.index(\"Java\")\n",
    "    # \n",
    "except Exception: \n",
    "    print(\"java key not found\")\n",
    "print(\"end\")"
   ]
  },
  {
   "cell_type": "code",
   "execution_count": null,
   "metadata": {},
   "outputs": [],
   "source": [
    "a=20\n",
    "s=\"hi python\"\n",
    "print(a)\n",
    "try:  \n",
    "    s.index(\"Java\")\n",
    "    # \n",
    "except Exception as ex : \n",
    "    print(\"java key not found\")\n",
    "    print(\"hello\",ex)\n",
    "print(\"end\")"
   ]
  },
  {
   "cell_type": "code",
   "execution_count": null,
   "metadata": {},
   "outputs": [],
   "source": [
    "a=20\n",
    "s=\"hi python\"\n",
    "print(a)\n",
    "try:  \n",
    "    s.inde(\"Java\") #modified\n",
    "    # \n",
    "except Exception as ex : \n",
    "    print(\"java key not found\")\n",
    "    print(\"hello\",ex)\n",
    "print(\"end\")"
   ]
  },
  {
   "cell_type": "code",
   "execution_count": null,
   "metadata": {},
   "outputs": [],
   "source": [
    "a=20\n",
    "s=\"hi python\"\n",
    "print(a)\n",
    "try:  \n",
    "    s.inde(\"Java\") #modified\n",
    "    # \n",
    "except AttributeError as ex : \n",
    "    print(\"java key not found\")\n",
    "    print(\"hello\",ex)\n",
    "print(\"end\")"
   ]
  },
  {
   "cell_type": "code",
   "execution_count": null,
   "metadata": {},
   "outputs": [],
   "source": [
    "a=20\n",
    "s=\"hi python\"\n",
    "print(a)\n",
    "try:  \n",
    "    s.index(\"Java\") #modified\n",
    "    # \n",
    "except ValueError as ex : \n",
    "    print(\"java key not found\")\n",
    "    print(\"hello\",ex)\n",
    "print(\"end\")"
   ]
  },
  {
   "cell_type": "code",
   "execution_count": null,
   "metadata": {},
   "outputs": [],
   "source": [
    "#single try can have many exception block.\n",
    "a=20\n",
    "s=\"hi python\"\n",
    "print(a)\n",
    "try:  \n",
    "    s.index(\"Java\") #modified\n",
    "except ValueError as ex : \n",
    "    print(\"java key not found\")\n",
    "    print(\"hello\",ex)\n",
    "except AttributeError as ex :\n",
    "    print(\"hello\",ex)"
   ]
  },
  {
   "cell_type": "code",
   "execution_count": 3,
   "metadata": {},
   "outputs": [
    {
     "name": "stdout",
     "output_type": "stream",
     "text": [
      "30\n",
      "20\n",
      "exception of zero\n"
     ]
    }
   ],
   "source": [
    "a=30 \n",
    "b=20 \n",
    "try : \n",
    "    print(a)\n",
    "    print(b)\n",
    "    a=30\n",
    "    b=0\n",
    "    result=a/b\n",
    "except ValueError :\n",
    "     print(\"exception\")\n",
    "except ZeroDivisionError :\n",
    "     print(\"exception of zero\")\n",
    " "
   ]
  },
  {
   "cell_type": "code",
   "execution_count": 8,
   "metadata": {},
   "outputs": [
    {
     "name": "stdout",
     "output_type": "stream",
     "text": [
      "30\n",
      "20\n",
      "exception division by zero\n"
     ]
    }
   ],
   "source": [
    "a=30 \n",
    "b=20 \n",
    "try : \n",
    "    print(a)\n",
    "    print(b)\n",
    "    a=30\n",
    "    b=0\n",
    "    a/b\n",
    "except Exception as ex :\n",
    "     print(\"exception\",ex) #this will get executed. \n",
    "except ZerodivisionError as ex:\n",
    "     print(\"exceptio of zero\")\n",
    " "
   ]
  },
  {
   "cell_type": "code",
   "execution_count": null,
   "metadata": {},
   "outputs": [],
   "source": [
    "a=30 \n",
    "b=20 \n",
    "try : \n",
    "    print(a)\n",
    "    print(b)\n",
    "    a=30\n",
    "    b=0\n",
    "    a/b\n",
    "except ZerodivisionError as ex:\n",
    "     print(\"exceptio of zero\",ex) #this will get executed.\n",
    "except Exception as ex :\n",
    "     print(\"exception\",ex) "
   ]
  },
  {
   "cell_type": "code",
   "execution_count": 1,
   "metadata": {},
   "outputs": [
    {
     "name": "stdout",
     "output_type": "stream",
     "text": [
      "exception invalid literal for int() with base 10: 'abc'\n"
     ]
    }
   ],
   "source": [
    "a=30 \n",
    "b=20 \n",
    "try : \n",
    "    z=int(\"abc\")\n",
    "    print(a)\n",
    "    print(b)\n",
    "    a=30\n",
    "    b=0\n",
    "    a/b\n",
    "except ZeroDivisionError as ex:\n",
    "     print(\"exceptio of zero\",ex) #this will get executed.\n",
    "except Exception as ex :\n",
    "     print(\"exception\",ex) #this block has to be executed."
   ]
  },
  {
   "cell_type": "code",
   "execution_count": 2,
   "metadata": {},
   "outputs": [
    {
     "name": "stdout",
     "output_type": "stream",
     "text": [
      "started\n",
      "hello\n",
      "zero division Error\n"
     ]
    }
   ],
   "source": [
    "try :\n",
    "    print(\"started\")\n",
    "    print(\"hello\")\n",
    "    1/0\n",
    "    try : \n",
    "        s = \"hello\"\n",
    "        s.ind(\"java\")\n",
    "    except ValueError as ex : \n",
    "            print(\"value Error\")\n",
    "except ZeroDivisionError as ex :\n",
    "           print(\"zero division Error\")"
   ]
  },
  {
   "cell_type": "code",
   "execution_count": 3,
   "metadata": {},
   "outputs": [
    {
     "name": "stdout",
     "output_type": "stream",
     "text": [
      "started\n",
      "hello\n",
      "value Error 'str' object has no attribute 'ind'\n"
     ]
    }
   ],
   "source": [
    "try :\n",
    "    print(\"started\")\n",
    "    print(\"hello\")\n",
    "    0/1\n",
    "    try : \n",
    "        s = \"hello\"\n",
    "        s.ind(\"java\")\n",
    "    except AttributeError as ex : \n",
    "            print(\"value Error\",ex)\n",
    "except ZeroDivisionError as ex :\n",
    "           print(\"zero division Error\",ex)"
   ]
  },
  {
   "cell_type": "code",
   "execution_count": 4,
   "metadata": {},
   "outputs": [
    {
     "name": "stdout",
     "output_type": "stream",
     "text": [
      "started\n",
      "hello\n",
      "value Error substring not found\n",
      "End\n"
     ]
    }
   ],
   "source": [
    "try :\n",
    "    print(\"started\")\n",
    "    print(\"hello\")\n",
    "    0/1\n",
    "    try : \n",
    "        s = \"hello\"\n",
    "        s.index(\"Hello\")\n",
    "    except ValueError as ex : \n",
    "            print(\"value Error\",ex)\n",
    "except ZeroDivisionError as ex :\n",
    "           print(\"zero division Error\",ex)\n",
    "else :  #else getting excuted. #else block only get executed if there is no error occured \n",
    "    print(\"End\")  #can be used for validation"
   ]
  },
  {
   "cell_type": "code",
   "execution_count": 14,
   "metadata": {},
   "outputs": [
    {
     "name": "stdout",
     "output_type": "stream",
     "text": [
      "started\n",
      "hello\n",
      "value Error substring not found\n",
      "End\n"
     ]
    }
   ],
   "source": [
    "try :\n",
    "    print(\"started\")\n",
    "    print(\"hello\")\n",
    "    0/1\n",
    "    try : \n",
    "        s = \"Hello\"\n",
    "        s.index(\"hello\")\n",
    "    except ValueError as ex : \n",
    "            print(\"value Error\",ex)\n",
    "except ZeroDivisionError as ex :\n",
    "           print(\"zero division Error\",ex)\n",
    "finally :  #finally getting excuted. \n",
    "    print(\"End\")  #can be used for validation"
   ]
  },
  {
   "cell_type": "code",
   "execution_count": 6,
   "metadata": {},
   "outputs": [
    {
     "name": "stdout",
     "output_type": "stream",
     "text": [
      "Exception\n",
      "end\n"
     ]
    }
   ],
   "source": [
    "try: \n",
    "    1/0 \n",
    "except Exception :\n",
    "     print(\"Exception\")\n",
    "        \n",
    "finally :\n",
    "    print(\"end\")  #finally block will get excuted in both the cases of the program which means it doesnt matter whether \n",
    "    "
   ]
  },
  {
   "cell_type": "code",
   "execution_count": 7,
   "metadata": {},
   "outputs": [
    {
     "name": "stdout",
     "output_type": "stream",
     "text": [
      "Exception\n",
      "end\n"
     ]
    }
   ],
   "source": [
    "try: \n",
    "    1/0\n",
    "except Exception :\n",
    "     print(\"Exception\")\n",
    "finally :\n",
    "    print(\"end\") #when there is no exception finaly block gets executed straigh away/\n"
   ]
  },
  {
   "cell_type": "code",
   "execution_count": 8,
   "metadata": {},
   "outputs": [
    {
     "name": "stdout",
     "output_type": "stream",
     "text": [
      "end\n"
     ]
    },
    {
     "ename": "ZeroDivisionError",
     "evalue": "division by zero",
     "output_type": "error",
     "traceback": [
      "\u001b[1;31m---------------------------------------------------------------------------\u001b[0m",
      "\u001b[1;31mZeroDivisionError\u001b[0m                         Traceback (most recent call last)",
      "\u001b[1;32m<ipython-input-8-cfeab346ab52>\u001b[0m in \u001b[0;36m<module>\u001b[1;34m\u001b[0m\n\u001b[0;32m      1\u001b[0m \u001b[1;32mtry\u001b[0m \u001b[1;33m:\u001b[0m\u001b[1;33m\u001b[0m\u001b[1;33m\u001b[0m\u001b[0m\n\u001b[1;32m----> 2\u001b[1;33m     \u001b[1;36m1\u001b[0m\u001b[1;33m/\u001b[0m\u001b[1;36m0\u001b[0m\u001b[1;33m\u001b[0m\u001b[1;33m\u001b[0m\u001b[0m\n\u001b[0m\u001b[0;32m      3\u001b[0m \u001b[1;32mfinally\u001b[0m \u001b[1;33m:\u001b[0m\u001b[1;33m\u001b[0m\u001b[1;33m\u001b[0m\u001b[0m\n\u001b[0;32m      4\u001b[0m     \u001b[0mprint\u001b[0m\u001b[1;33m(\u001b[0m\u001b[1;34m\"end\"\u001b[0m\u001b[1;33m)\u001b[0m \u001b[1;31m#exception is not getting handled.\u001b[0m\u001b[1;33m\u001b[0m\u001b[1;33m\u001b[0m\u001b[0m\n",
      "\u001b[1;31mZeroDivisionError\u001b[0m: division by zero"
     ]
    }
   ],
   "source": [
    "try :\n",
    "    1/0\n",
    "finally :\n",
    "    print(\"end\") #exception is not getting handled. "
   ]
  },
  {
   "cell_type": "code",
   "execution_count": 9,
   "metadata": {},
   "outputs": [
    {
     "ename": "SyntaxError",
     "evalue": "invalid syntax (<ipython-input-9-b1ad3a0e2efa>, line 3)",
     "output_type": "error",
     "traceback": [
      "\u001b[1;36m  File \u001b[1;32m\"<ipython-input-9-b1ad3a0e2efa>\"\u001b[1;36m, line \u001b[1;32m3\u001b[0m\n\u001b[1;33m    else :\u001b[0m\n\u001b[1;37m       ^\u001b[0m\n\u001b[1;31mSyntaxError\u001b[0m\u001b[1;31m:\u001b[0m invalid syntax\n"
     ]
    }
   ],
   "source": [
    "try :\n",
    "    a = b \n",
    "else : \n",
    "     print('exception ') #syntax error"
   ]
  },
  {
   "cell_type": "code",
   "execution_count": 10,
   "metadata": {},
   "outputs": [
    {
     "ename": "SyntaxError",
     "evalue": "invalid syntax (<ipython-input-10-3a5700403d25>, line 5)",
     "output_type": "error",
     "traceback": [
      "\u001b[1;36m  File \u001b[1;32m\"<ipython-input-10-3a5700403d25>\"\u001b[1;36m, line \u001b[1;32m5\u001b[0m\n\u001b[1;33m    else :\u001b[0m\n\u001b[1;37m       ^\u001b[0m\n\u001b[1;31mSyntaxError\u001b[0m\u001b[1;31m:\u001b[0m invalid syntax\n"
     ]
    }
   ],
   "source": [
    "try :\n",
    "    a=b\n",
    "finally :\n",
    "     print(\"error\")\n",
    "else :\n",
    "     print(\"else block\") #syntax error"
   ]
  },
  {
   "cell_type": "code",
   "execution_count": 11,
   "metadata": {},
   "outputs": [
    {
     "ename": "IndentationError",
     "evalue": "expected an indented block (<ipython-input-11-d25eff9048a7>, line 2)",
     "output_type": "error",
     "traceback": [
      "\u001b[1;36m  File \u001b[1;32m\"<ipython-input-11-d25eff9048a7>\"\u001b[1;36m, line \u001b[1;32m2\u001b[0m\n\u001b[1;33m    except\u001b[0m\n\u001b[1;37m         ^\u001b[0m\n\u001b[1;31mIndentationError\u001b[0m\u001b[1;31m:\u001b[0m expected an indented block\n"
     ]
    }
   ],
   "source": [
    "try :\n",
    "except \n",
    "else \n",
    "finally\n"
   ]
  },
  {
   "cell_type": "code",
   "execution_count": 12,
   "metadata": {},
   "outputs": [
    {
     "ename": "SyntaxError",
     "evalue": "invalid syntax (<ipython-input-12-95ac6afaf1bc>, line 1)",
     "output_type": "error",
     "traceback": [
      "\u001b[1;36m  File \u001b[1;32m\"<ipython-input-12-95ac6afaf1bc>\"\u001b[1;36m, line \u001b[1;32m1\u001b[0m\n\u001b[1;33m    try  #check the syntax\u001b[0m\n\u001b[1;37m                          ^\u001b[0m\n\u001b[1;31mSyntaxError\u001b[0m\u001b[1;31m:\u001b[0m invalid syntax\n"
     ]
    }
   ],
   "source": [
    "try  #check the syntax\n",
    "else \n",
    "else"
   ]
  },
  {
   "cell_type": "code",
   "execution_count": null,
   "metadata": {},
   "outputs": [],
   "source": [
    "#raise \n",
    "\n",
    "if a=='Ram'\n",
    "   raise ValueError(\"--\")\n"
   ]
  },
  {
   "cell_type": "code",
   "execution_count": null,
   "metadata": {},
   "outputs": [],
   "source": []
  },
  {
   "cell_type": "code",
   "execution_count": 26,
   "metadata": {},
   "outputs": [
    {
     "name": "stdout",
     "output_type": "stream",
     "text": [
      "enter your age20\n",
      "eligiable for voting\n"
     ]
    },
    {
     "data": {
      "text/plain": [
       "int"
      ]
     },
     "execution_count": 26,
     "metadata": {},
     "output_type": "execute_result"
    }
   ],
   "source": [
    "\n",
    "a=input(\"enter your age\")\n",
    "age=int(a)\n",
    "try : \n",
    "    if age >= 18:\n",
    "            print(\"eligiable for voting\")\n",
    "    else:\n",
    "        raise ValueError(\"age is less then 18\")\n",
    "            \n",
    "except Exception as ex:\n",
    "        print(ex)\n",
    "type(age)\n"
   ]
  },
  {
   "cell_type": "code",
   "execution_count": 8,
   "metadata": {},
   "outputs": [
    {
     "ename": "IndentationError",
     "evalue": "expected an indented block (<ipython-input-8-01c9fc3f1990>, line 11)",
     "output_type": "error",
     "traceback": [
      "\u001b[1;36m  File \u001b[1;32m\"<ipython-input-8-01c9fc3f1990>\"\u001b[1;36m, line \u001b[1;32m11\u001b[0m\n\u001b[1;33m    raise ValueError(\"age is less then 18\")\u001b[0m\n\u001b[1;37m        ^\u001b[0m\n\u001b[1;31mIndentationError\u001b[0m\u001b[1;31m:\u001b[0m expected an indented block\n"
     ]
    }
   ],
   "source": [
    "\n",
    "a=input(\"enter your age\")\n",
    "age=int(a)\n",
    "typ=type(age)\n",
    "try :\n",
    "    if typ == \"int\" :\n",
    "     try : \n",
    "        if age >= 18:\n",
    "            print(\"eligiable for voting\")\n",
    "        else:\n",
    "        raise ValueError(\"age is less then 18\")\n",
    "            \n",
    "        except Exception as ex:\n",
    "        print(ex)\n",
    "    else : \n",
    "        print(\"type conversion failed\")\n",
    "except ValueError as ex :\n",
    "     print(\"can not convert the value into integer\")"
   ]
  },
  {
   "cell_type": "code",
   "execution_count": null,
   "metadata": {},
   "outputs": [],
   "source": []
  },
  {
   "cell_type": "code",
   "execution_count": null,
   "metadata": {},
   "outputs": [],
   "source": []
  }
 ],
 "metadata": {
  "kernelspec": {
   "display_name": "Python 3",
   "language": "python",
   "name": "python3"
  },
  "language_info": {
   "codemirror_mode": {
    "name": "ipython",
    "version": 3
   },
   "file_extension": ".py",
   "mimetype": "text/x-python",
   "name": "python",
   "nbconvert_exporter": "python",
   "pygments_lexer": "ipython3",
   "version": "3.7.3"
  }
 },
 "nbformat": 4,
 "nbformat_minor": 2
}
